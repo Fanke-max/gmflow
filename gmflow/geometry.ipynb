{
 "cells": [
  {
   "cell_type": "code",
   "execution_count": null,
   "metadata": {},
   "outputs": [],
   "source": [
    "from geometry import *"
   ]
  }
 ],
 "metadata": {
  "kernelspec": {
   "display_name": "Python 3.9.7 ('base')",
   "language": "python",
   "name": "python3"
  },
  "language_info": {
   "name": "python",
   "version": "3.9.7"
  },
  "orig_nbformat": 4,
  "vscode": {
   "interpreter": {
    "hash": "0eda40e34d50acd4c91ee252ea13102d811e2c74ce06bec5069b62899093baa8"
   }
  }
 },
 "nbformat": 4,
 "nbformat_minor": 2
}
